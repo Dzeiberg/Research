{
 "cells": [
  {
   "cell_type": "code",
   "execution_count": 1,
   "metadata": {},
   "outputs": [],
   "source": [
    "%matplotlib inline\n",
    "from __future__ import unicode_literals, print_function, division\n",
    "from io import open\n",
    "import unicodedata\n",
    "import string\n",
    "import re\n",
    "import random\n",
    "import numpy as np\n",
    "import matplotlib.pyplot as plt\n",
    "import torch\n",
    "import torch.nn as nn\n",
    "from torch import optim\n",
    "import torch.nn.functional as F\n",
    "\n",
    "device = torch.device(\"cuda\" if torch.cuda.is_available() else \"cpu\")"
   ]
  },
  {
   "cell_type": "code",
   "execution_count": 2,
   "metadata": {},
   "outputs": [],
   "source": [
    "SequenceLength = MAX_LENGTH = 5"
   ]
  },
  {
   "cell_type": "code",
   "execution_count": 3,
   "metadata": {},
   "outputs": [
    {
     "data": {
      "image/png": "[encoded data removed]",
      "text/plain": [
       "<Figure size 432x288 with 1 Axes>"
      ]
     },
     "metadata": {
      "needs_background": "light"
     },
     "output_type": "display_data"
    }
   ],
   "source": [
    "x = np.arange(0,1500, 1) * 2*np.pi / 360\n",
    "sinx = np.sin(x) + 2\n",
    "plt.scatter(x, sinx)\n",
    "tensorPairs = []\n",
    "pairs = []\n",
    "for i in range(MAX_LENGTH, len(sinx) - MAX_LENGTH):\n",
    "    p1 = torch.FloatTensor(np.array(sinx[i-MAX_LENGTH: i]), device=device)\n",
    "    p2 = torch.FloatTensor(np.array(sinx[i: i+MAX_LENGTH]), device=device)\n",
    "    tensorPairs.append((p1, p2))\n",
    "    pairs.append((sinx[i-5: i], sinx[i: i+5]))"
   ]
  },
  {
   "cell_type": "code",
   "execution_count": 4,
   "metadata": {},
   "outputs": [],
   "source": [
    "class EncoderRNN(nn.Module):\n",
    "    def __init__(self, input_size, hidden_size):\n",
    "        super(EncoderRNN, self).__init__()\n",
    "        self.hidden_size = hidden_size\n",
    "        \n",
    "        self.gru=nn.GRU(input_size, hidden_size)\n",
    "\n",
    "    def forward(self, input, hidden):\n",
    "        #print(\"encoder input \", input)\n",
    "        input = input.view(1,1,-1).float()\n",
    "        output, hidden = self.gru(input, hidden)\n",
    "        #print(\"encoder output \", output)\n",
    "        return output, hidden\n",
    "    \n",
    "    def initHidden(self):\n",
    "        return torch.zeros(1,1,self.hidden_size, device=device)\n"
   ]
  },
  {
   "cell_type": "code",
   "execution_count": 5,
   "metadata": {},
   "outputs": [],
   "source": [
    "class DecoderRNN(nn.Module):\n",
    "    def __init__(self, hidden_size, output_size):\n",
    "        input_size = output_size\n",
    "        super(DecoderRNN, self).__init__()\n",
    "        self.hidden_size = hidden_size\n",
    "        self.gru = nn.GRU(input_size, hidden_size)\n",
    "        self.out = nn.Linear(hidden_size, output_size)\n",
    "        self.softmax = nn.LogSoftmax(dim=1)\n",
    "        \n",
    "    def forward(self, input, hidden):\n",
    "        #print(\"decoder input: \", input)\n",
    "        input = input.view(1,1,-1).float()\n",
    "        output, hidden = self.gru(input, hidden)\n",
    "        #print(\"decoder outFC input\", output)\n",
    "        outRes = self.out(output)\n",
    "        #print(\"decoder outFC output\", outRes)\n",
    "        #output = self.softmax(outRes)\n",
    "        #print(\"decoder softmax output: \", output)\n",
    "        #return output, hidden\n",
    "        \n",
    "        return outRes, hidden\n",
    "    \n",
    "    def initHidden(self):\n",
    "        return torch.zeros(1,1,self.hidden_size, device=device)"
   ]
  },
  {
   "cell_type": "code",
   "execution_count": 24,
   "metadata": {},
   "outputs": [],
   "source": [
    "teacher_forcing_ratio = 1\n",
    "NULLCHAR = 0\n",
    "def train(input_tensor, target_tensor, encoder, decoder,\n",
    "          encoder_optimizer, decoder_optimizer, criterion,\n",
    "          max_length = MAX_LENGTH):\n",
    "    #print(\"iteration\")\n",
    "    #print(\"input tensor \", input_tensor)\n",
    "    #print(\"output tensor \", target_tensor)\n",
    "    encoder_hidden = encoder.initHidden()\n",
    "\n",
    "    encoder_optimizer.zero_grad()\n",
    "    decoder_optimizer.zero_grad()\n",
    "\n",
    "    input_length = input_tensor.size(0) # should be 5\n",
    "    target_length = target_tensor.size(0) # should be 5\n",
    "    \n",
    "    encoder_outputs = torch.zeros(max_length, \n",
    "                                  encoder.hidden_size, device=device)\n",
    "    loss = 0\n",
    "    for ei in range(input_length):\n",
    "        encoder_output, encoder_hidden = encoder(\n",
    "            input_tensor[ei], encoder_hidden)\n",
    "        encoder_outputs[ei] = encoder_output[0, 0]\n",
    "    \n",
    "    #first input to decoder is a null character (0)\n",
    "    decoder_input = torch.tensor([[target_tensor[0]]], device=device)\n",
    "    \n",
    "    #initialize decoder hidden state to last encoder hidden state\n",
    "    decoder_hidden = encoder_hidden\n",
    "    decoder_input = torch.tensor([[0]], device=device)\n",
    "    \n",
    "    use_teacher_forcing = True if random.random() <teacher_forcing_ratio else False\n",
    "    if use_teacher_forcing:\n",
    "        #feed the target as the next input\n",
    "        for di in range(target_length):\n",
    "            #decoder_output, decoder_hidden = decoder(decoder_input, decoder_hidden, encoder_outputs)\n",
    "            decoder_output, decoder_hidden = decoder(decoder_input, decoder_hidden)\n",
    "            #print(decoder_output, target_tensor[di])\n",
    "            loss += criterion(decoder_output.squeeze(), target_tensor[di].squeeze().float())\n",
    "            decoder_input = target_tensor[di]  # Teacher forcing\n",
    "    \n",
    "    else:\n",
    "        #use own prediction as the next input\n",
    "        for di in range(target_length):\n",
    "            #decoder_output, decoder_hidden = decoder(decoder_input, decoder_hidden, encoder_outputs)\n",
    "            decoder_output, decoder_hidden = decoder(decoder_input, decoder_hidden)\n",
    "            #topv, topi = decoder_output.topk(1)\n",
    "            \n",
    "            # detach from history as input\n",
    "            #decoder_input = topi.squeeze().detach()\n",
    "            decoder_input = decoder_output.squeeze().detach()\n",
    "            loss += criterion(decoder_output.squeeze(), target_tensor[di].squeeze().float())\n",
    "            if decoder_input.item() == NULLCHAR:\n",
    "                break\n",
    "\n",
    "    loss.backward()\n",
    "\n",
    "    encoder_optimizer.step()\n",
    "    decoder_optimizer.step()\n",
    "\n",
    "    return loss.item() / target_length"
   ]
  },
  {
   "cell_type": "code",
   "execution_count": 7,
   "metadata": {},
   "outputs": [],
   "source": [
    "import time\n",
    "import math\n",
    "\n",
    "\n",
    "def asMinutes(s):\n",
    "    m = math.floor(s / 60)\n",
    "    s -= m * 60\n",
    "    return '%dm %ds' % (m, s)\n",
    "\n",
    "\n",
    "def timeSince(since, percent):\n",
    "    now = time.time()\n",
    "    s = now - since\n",
    "    es = s / (percent)\n",
    "    rs = es - s\n",
    "    return '%s (- %s)' % (asMinutes(s), asMinutes(rs))"
   ]
  },
  {
   "cell_type": "code",
   "execution_count": 27,
   "metadata": {},
   "outputs": [],
   "source": [
    "def trainIters(encoder, decoder, n_iters, print_every=1000, plot_every=100, learning_rate=0.01):\n",
    "    start = time.time()\n",
    "    plot_losses = []\n",
    "    print_loss_total = 0  # Reset every print_every\n",
    "    plot_loss_total = 0  # Reset every plot_every\n",
    "\n",
    "    encoder_optimizer = optim.SGD(encoder.parameters(), lr=learning_rate)\n",
    "    decoder_optimizer = optim.SGD(decoder.parameters(), lr=learning_rate)\n",
    "    training_pairs = [random.choice(tensorPairs) for i in range(n_iters)]\n",
    "    criterion = nn.MSELoss()\n",
    "    \n",
    "    for iter in range(1, n_iters+1):\n",
    "        training_pair = training_pairs[iter - 1]\n",
    "        input_tensor = training_pair[0]\n",
    "        target_tensor = training_pair[1]\n",
    "        loss = train(input_tensor, target_tensor, encoder,\n",
    "                     decoder, encoder_optimizer, decoder_optimizer, criterion)\n",
    "        print_loss_total += loss\n",
    "        plot_loss_total += loss\n",
    "        \n",
    "        if iter % print_every == 0:\n",
    "            print_loss_avg = print_loss_total / print_every\n",
    "            print_loss_total = 0\n",
    "            print('%s (%d %d%%) %.4f' % (timeSince(start, iter / n_iters),\n",
    "                                         iter, iter / n_iters * 100, print_loss_avg))\n",
    "\n",
    "        if iter % plot_every == 0:\n",
    "            plot_loss_avg = plot_loss_total / plot_every\n",
    "            plot_losses.append(plot_loss_avg)\n",
    "            plot_loss_total = 0\n",
    "\n",
    "    showPlot(plot_losses, plot_every)"
   ]
  },
  {
   "cell_type": "code",
   "execution_count": 32,
   "metadata": {},
   "outputs": [],
   "source": [
    "import matplotlib.pyplot as plt\n",
    "plt.switch_backend('agg')\n",
    "import matplotlib.ticker as ticker\n",
    "import numpy as np\n",
    "\n",
    "\n",
    "def showPlot(points, plot_every):\n",
    "    plt.figure()\n",
    "    fig, ax = plt.subplots()\n",
    "    # this locator puts ticks at regular intervals\n",
    "    loc = ticker.MultipleLocator(base=0.2)\n",
    "    ax.yaxis.set_major_locator(loc)\n",
    "    plt.xlabel(\"iteration\")\n",
    "    plt.ylabel(\"MSE\")\n",
    "    plt.plot(np.arange(len(points))*plot_every,points)"
   ]
  },
  {
   "cell_type": "code",
   "execution_count": 10,
   "metadata": {},
   "outputs": [],
   "source": [
    "def evaluate(encoder, decoder, inputSequence, max_length=MAX_LENGTH):\n",
    "    with torch.no_grad():\n",
    "        input_tensor = inputSequence\n",
    "        input_length = input_tensor.size()[0]\n",
    "        encoder_hidden = encoder.initHidden()\n",
    "        \n",
    "        encoder_outputs = torch.zeros(\n",
    "            max_length,encoder.hidden_size, device=device)\n",
    "        \n",
    "        for ei in range(input_length):\n",
    "            encoder_output, encoder_hidden = encoder(input_tensor[ei],\n",
    "                                                     encoder_hidden)\n",
    "            encoder_outputs[ei] += encoder_output[0, 0]\n",
    "        \n",
    "        decoder_input = torch.tensor([[0]], device=device)\n",
    "        \n",
    "        decoder_hidden = encoder_hidden\n",
    "        \n",
    "        nextSequence = []\n",
    "        #decoder_attention = torch.zeros(max_length, max_length)\n",
    "        \n",
    "        for di in range(max_length):\n",
    "            decoder_output, decoder_hidden = decoder(\n",
    "                decoder_input, decoder_hidden, encoder_outputs)\n",
    "            \n",
    "            #decoder_attentions[di] = decoder_attention.data\n",
    "            topv, topi = decoder_output.data.topk(1)\n",
    "            if topi.item() == NULLCHAR:\n",
    "                nextSequence.append('XX')\n",
    "                break\n",
    "            else:\n",
    "                nextSequence.append(topi.item())\n",
    "            \n",
    "            decoder_input = topi.squeeze().detach()\n",
    "            \n",
    "        return nextSequence\n"
   ]
  },
  {
   "cell_type": "code",
   "execution_count": 11,
   "metadata": {},
   "outputs": [],
   "source": [
    "def evaluateRandomly(encoder, decoder, n=10):\n",
    "    for i in range(n):\n",
    "        pair = random.choice(tensorPairs)\n",
    "        print('>', pair[0])\n",
    "        print('=', pair[1])\n",
    "        nextSequence = evaluate(encoder, decoder, pair[0])\n",
    "        outputSequence = ' '.join(nextSequence)\n",
    "        print('<', outputSequence)\n",
    "        print('')"
   ]
  },
  {
   "cell_type": "code",
   "execution_count": 45,
   "metadata": {},
   "outputs": [
    {
     "name": "stdout",
     "output_type": "stream",
     "text": [
      "0m 0s (- 0m 1s) (100 16%) 0.7218\n",
      "0m 0s (- 0m 1s) (200 33%) 0.3584\n",
      "0m 1s (- 0m 1s) (300 50%) 0.0817\n",
      "0m 1s (- 0m 0s) (400 66%) 0.0416\n",
      "0m 1s (- 0m 0s) (500 83%) 0.0317\n",
      "0m 2s (- 0m 0s) (600 100%) 0.0330\n"
     ]
    },
    {
     "data": {
      "text/plain": [
       "<Figure size 432x288 with 0 Axes>"
      ]
     },
     "metadata": {},
     "output_type": "display_data"
    },
    {
     "data": {
      "image/png": "[encoded data removed]",
      "text/plain": [
       "<Figure size 432x288 with 1 Axes>"
      ]
     },
     "metadata": {
      "needs_background": "light"
     },
     "output_type": "display_data"
    }
   ],
   "source": [
    "hidden_size = 1\n",
    "input_size = output_size = 1\n",
    "N_iters = 600\n",
    "encoder1 = EncoderRNN(input_size, hidden_size).to(device)\n",
    "decoder1 = DecoderRNN(hidden_size, output_size).to(device)\n",
    "trainIters(encoder1, decoder1, N_iters, print_every=100, plot_every=N_iters/100)"
   ]
  },
  {
   "cell_type": "code",
   "execution_count": null,
   "metadata": {},
   "outputs": [],
   "source": []
  }
 ],
 "metadata": {
  "kernelspec": {
   "display_name": "Python 3",
   "language": "python",
   "name": "python3"
  },
  "language_info": {
   "codemirror_mode": {
    "name": "ipython",
    "version": 3
   },
   "file_extension": ".py",
   "mimetype": "text/x-python",
   "name": "python",
   "nbconvert_exporter": "python",
   "pygments_lexer": "ipython3",
   "version": "3.6.6"
  }
 },
 "nbformat": 4,
 "nbformat_minor": 2
}
