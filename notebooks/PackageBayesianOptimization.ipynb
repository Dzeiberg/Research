{
 "cells": [
  {
   "cell_type": "code",
   "execution_count": 1,
   "metadata": {},
   "outputs": [],
   "source": [
    "%run ./../libs/bayesianOptimization/python/gp.py\n",
    "%run ./../libs/bayesianOptimization/python/plotters.py\n",
    "import numpy as np\n",
    "import matplotlib.pyplot as plt\n",
    "from matplotlib import rc\n",
    "from joblib import Parallel, delayed\n",
    "import pickle\n",
    "#rc('text', usetex=True)"
   ]
  },
  {
   "cell_type": "code",
   "execution_count": 2,
   "metadata": {},
   "outputs": [],
   "source": [
    "def target(x1,x2):\n",
    "    return  -1 *((4 - (2.1 * (x1**2)) + (x1**4)/3) * (x1**2) + x1*x2 + (-4 + 4*(x2**2)) * x2**2)"
   ]
  },
  {
   "cell_type": "code",
   "execution_count": 3,
   "metadata": {},
   "outputs": [],
   "source": [
    "def camel(x):\n",
    "    return  ((4 - (2.1 * (x[0]**2)) + (x[0]**4)/3) * (x[0]**2) + x[0]*x[1] + (-4 + 4*(x[1]**2)) * x[1]**2)\n",
    "\n",
    "def negativeCamel(x):\n",
    "    return  -1 *((4 - (2.1 * (x[0]**2)) + (x[0]**4)/3) * (x[0]**2) + x[0]*x[1] + (-4 + 4*(x[1]**2)) * x[1]**2)\n",
    "camelBounds = np.array([[-3,3], [-2,2]])\n",
    "camelOptimum = -1.0316"
   ]
  },
  {
   "cell_type": "code",
   "execution_count": 4,
   "metadata": {},
   "outputs": [],
   "source": [
    "def ackley(x):\n",
    "    x = x.reshape(-1,1)\n",
    "    a = 20\n",
    "    b = 0.2\n",
    "    c = 2*np.pi\n",
    "    d = x.shape[0]\n",
    "    s1 = np.sum(np.square(x))\n",
    "    s2 = np.sum(np.cos(c * x))\n",
    "    return -a * np.exp(-1 * b * np.sqrt((1/d) * s1) ) - np.exp((1/d) * s2) + a + np.exp(1)\n",
    "\n",
    "def negativeAckley(x):\n",
    "    return -1 * ackley(x)\n",
    "ackleyBounds = np.array([[-32.768, 32.768],[-32.768, 32.768]])\n",
    "ackleyOptimum = 0.0"
   ]
  },
  {
   "cell_type": "code",
   "execution_count": 5,
   "metadata": {},
   "outputs": [],
   "source": [
    "def boat(x):\n",
    "    \"\"\"\n",
    "    Bohachevsky Function 1\n",
    "    # Dim: 2\n",
    "    minimum: f(0,0) = 0\n",
    "    \"\"\"\n",
    "    return x[0]**2 + 2*x[1]**2 - 0.3 * np.cos(3*np.pi*x[0]) - 0.4 * np.cos(4*np.pi*x[1]) + 0.7\n",
    "\n",
    "def negativeBoat(x):\n",
    "    return -1 * boat(x)\n",
    "boatBounds = np.array([[-100,100], [-100,100]])\n",
    "boatOptimum = 0.0"
   ]
  },
  {
   "cell_type": "code",
   "execution_count": 6,
   "metadata": {},
   "outputs": [],
   "source": [
    "def booth(x):\n",
    "    return (x[0] + 2*x[1] - 7)**2 + (2*x[0] + x[1] - 5)**2\n",
    "def negBooth(x):\n",
    "    return -1 * booth(x)\n",
    "boothBounds = np.array([[-10,10], [-10,10]])\n",
    "boothOptimum = 0.0"
   ]
  },
  {
   "cell_type": "code",
   "execution_count": 7,
   "metadata": {},
   "outputs": [],
   "source": [
    "def eason(x):\n",
    "    return -1 * np.cos(x[0]) * np.cos(x[1]) * np.exp(-1 * (x[0] - np.pi)**2 - (x[1] - np.pi)**2)\n",
    "\n",
    "def negativeEason(x):\n",
    "    return -1 * eason(x)\n",
    "easonBounds = np.array([[-100,100], [-100,100]])\n",
    "easonOptimum = -1.00"
   ]
  },
  {
   "cell_type": "code",
   "execution_count": 8,
   "metadata": {},
   "outputs": [],
   "source": [
    "ShekelBeta = np.array([1,2,2,4,4,6,3,7,5,5]) / 10\n",
    "ShekelC = np.array([[4,1,8,6,3,2,5,8,6,7],\n",
    "                    [4,1,8,6,7,9,3,1,2,3.6],\n",
    "                    [4,1,8,6,3,2,5,8,6,7],\n",
    "                    [4,1,8,6,7,9,3,1,2,3.6]])"
   ]
  },
  {
   "cell_type": "code",
   "execution_count": 9,
   "metadata": {},
   "outputs": [],
   "source": [
    "class Problem:\n",
    "    def __init__(self, name, bounds, function, negativeFunction, optimum, optimumLocation):\n",
    "        self.name = name\n",
    "        self.bounds = bounds\n",
    "        self.function = function\n",
    "        self.negativeFunction = negativeFunction\n",
    "        self.optimum = optimum\n",
    "        self.optimumLocation = optimumLocation"
   ]
  },
  {
   "cell_type": "code",
   "execution_count": 10,
   "metadata": {},
   "outputs": [],
   "source": [
    "def goldsteinPrice(x):\n",
    "    term1 = 1 + (x[0] + x[1] + 1)**2 * (19 - 14*x[0] + 3*x[0]**2 - 14 *x[1] + 6 * x[0] * x[1] + 3*x[1]**2)\n",
    "    term2 = (30 + (2*x[0] - 3*x[1])**2 * (18 -32*x[0] + 12*x[0]**2 + 48*x[1] - 36*x[0]*x[1] + 27*x[1]**2))\n",
    "    return term1 * term2\n",
    "\n",
    "def negativeGoldsteinPrice(x):\n",
    "    return -1 * goldsteinPrice(x)\n",
    "\n",
    "goldSteinPriceProblem = Problem(\"Goldstein-Price\",\n",
    "                                np.array([[-2,2], [-2,2]]),\n",
    "                                goldsteinPrice,\n",
    "                                negativeGoldsteinPrice,\n",
    "                                3,\n",
    "                                np.array([[0,-1]]))"
   ]
  },
  {
   "cell_type": "code",
   "execution_count": 11,
   "metadata": {},
   "outputs": [],
   "source": [
    "def hartmann3(x):\n",
    "    A = np.array([[3,10,30],\n",
    "                  [0.1, 10, 35],\n",
    "                  [3, 10, 30], \n",
    "                  [0.1, 10, 35]])\n",
    "    P = 10**-4 * np.array([[3689, 1170, 2673],\n",
    "                           [4699, 4387, 7470],\n",
    "                           [1091, 8732, 5547],\n",
    "                           [381, 5743, 8828]])\n",
    "    alpha = np.array([1, 1.2, 3, 3.2])\n",
    "    total = 0.0\n",
    "    for i in range(4):\n",
    "        inner = 0.0\n",
    "        for j in range(3):\n",
    "            inner += A[i,j] * (x[j] - P[i, j])**2\n",
    "        total += alpha[i] * np.exp(-1 * inner)\n",
    "    return -1 * total\n",
    "\n",
    "def negativeHartmann3(x):\n",
    "    return -1 * hartmann3(x)\n",
    "\n",
    "hartmann3Problem = Problem(\"Hartmann 3\",\n",
    "                           np.array([[0,1], [0,1], [0,1]]),\n",
    "                           hartmann3,\n",
    "                           negativeHartmann3,\n",
    "                           -3.86278,\n",
    "                           np.array([[0.114614, 0.555649, 0.852547]]))"
   ]
  },
  {
   "cell_type": "code",
   "execution_count": 12,
   "metadata": {},
   "outputs": [],
   "source": [
    "def hartmann6(x):\n",
    "    A = np.array([[10, 3, 17, 3.5, 1.7, 8],\n",
    "                 [.05, 10, 17, .1, 8, 14],\n",
    "                 [3, 3.5, 1.7, 10, 17, 8],\n",
    "                 [17, 8, .05, 10, 0.1, 14]])\n",
    "    P = 10**-4 * np.array([[1312, 1696, 5569, 124, 8283, 5886],\n",
    "                          [2329, 4135, 8307, 3736, 1004, 9991],\n",
    "                          [2348, 1451, 3522, 2883, 3047, 6650],\n",
    "                          [4047, 8828, 8732, 5743, 1091, 381]])\n",
    "    alpha = np.array([1, 1.2, 3, 3.2])\n",
    "    total = 0.0\n",
    "    for i in range(4):\n",
    "        inner = 0.0\n",
    "        for j in range(6):\n",
    "            inner += A[i, j] * (x[j] - P[i,j])**2\n",
    "        total += alpha[i] * np.exp(-1 * inner)\n",
    "    return -1 * total\n",
    "\n",
    "def negativeHartmann6(x):\n",
    "    return -1 * hartmann6(x)\n",
    "\n",
    "hartmann6Problem = Problem(\"Hartmann 6\",\n",
    "                           np.array([[0,1], [0,1], [0,1], [0,1], [0,1], [0,1]]),\n",
    "                           hartmann6,\n",
    "                           negativeHartmann6,\n",
    "                           -3.32237,\n",
    "                           np.array([[0.20169, 0.150011, 0.476874, 0.275332, 0.311652, 0.6573]]))"
   ]
  },
  {
   "cell_type": "code",
   "execution_count": 13,
   "metadata": {},
   "outputs": [],
   "source": [
    "def syblinskyTang(x,d):\n",
    "    total = 0.0\n",
    "    for i in range(d):\n",
    "        total += x[i]**4 - 16*x[i]**2 + 5*x[i]\n",
    "    return 1/2 * total\n",
    "\n",
    "def syblinskyTang2(x):\n",
    "    d = 2\n",
    "    return syblinskyTang(x,d)\n",
    "\n",
    "def negativeSyblinskyTang2(x):\n",
    "    d = 2\n",
    "    return -1 * syblinskyTang(x, d)\n",
    "\n",
    "def syblinskyTang7(x):\n",
    "    d = 7\n",
    "    return syblinskyTang(x,7)\n",
    "\n",
    "def negativeSyblinskyTang7(x):\n",
    "    d = 7\n",
    "    return -1 * syblinskyTang(x, d)\n",
    "\n",
    "sb2Bounds = np.array([[-5,5], [-5,5]])\n",
    "sb7Bounds = np.array([[-5,5], [-5,5], [-5,5], [-5,5], [-5,5], [-5,5], [-5,5]])\n",
    "syblinskyTang2Problem = Problem(\"Syblinsky-Tang 2\",\n",
    "                                sb2Bounds,\n",
    "                                syblinskyTang2,\n",
    "                                negativeSyblinskyTang2,\n",
    "                                -39.16599*2,\n",
    "                                np.array([[-2.903534, -2.903534]]))\n",
    "\n",
    "syblinskyTang7Problem = Problem(\"Syblinsky-Tang 7\",\n",
    "                                sb7Bounds,\n",
    "                                syblinskyTang7,\n",
    "                                negativeSyblinskyTang7,\n",
    "                                -39.16599*7,\n",
    "                                np.array([[-2.903534,-2.903534,-2.903534,-2.903534,-2.903534,-2.903534,-2.903534]]))"
   ]
  },
  {
   "cell_type": "code",
   "execution_count": 14,
   "metadata": {},
   "outputs": [
    {
     "data": {
      "text/plain": [
       "-274.1631599263998"
      ]
     },
     "execution_count": 14,
     "metadata": {},
     "output_type": "execute_result"
    }
   ],
   "source": [
    "syblinskyTang7(np.array([-2.903534, -2.903534,-2.903534, -2.903534,-2.903534, -2.903534,-2.903534]))"
   ]
  },
  {
   "cell_type": "code",
   "execution_count": 15,
   "metadata": {},
   "outputs": [],
   "source": [
    "# problems = [Problem(\"camel\", camelBounds, camel, negativeCamel, camelOptimum),\n",
    "#             Problem(\"Eason\", easonBounds, eason, negativeEason, easonOptimum),\n",
    "#             Problem(\"ackley\", ackleyBounds, ackley, negativeAckley, ackleyOptimum),\n",
    "#             Problem(\"boat\", boatBounds, boat, negativeBoat, boatOptimum),\n",
    "#             Problem(\"Booth\", boothBounds, booth, negBooth, boothOptimum)\n",
    "#            ]\n",
    "problems = [\n",
    "    goldSteinPriceProblem,\n",
    "    hartmann3Problem,\n",
    "    hartmann6Problem,\n",
    "    syblinskyTang2Problem,\n",
    "    syblinskyTang7Problem,\n",
    "    Problem(\"camel\",\n",
    "            camelBounds,\n",
    "            camel,\n",
    "            negativeCamel,\n",
    "            camelOptimum,\n",
    "            np.array([[0.0898, -.7126],\n",
    "                      [-0.0898, .7126]]))\n",
    "]\n",
    "def OfflinePerformance(yp, w=5):\n",
    "    #w: window length that you want to take minimum over\n",
    "    bs = []\n",
    "#     print(yp.shape)\n",
    "    for t in range(w,yp.shape[0]):\n",
    "        b = np.min(yp[t-w:t])\n",
    "        bs.append(b)\n",
    "    Bs = []\n",
    "    for i in range(1,len(bs)):\n",
    "        Bs.append(np.mean(bs[:i]))\n",
    "    return Bs\n",
    "\n",
    "def plotResults(xp, yp, problem):\n",
    "    plt.clf()\n",
    "    if xp.shape[1] == 2:\n",
    "        plt.scatter(problem.optimumLocation[:,0], problem.optimumLocation[:,1], marker=(5,1))\n",
    "        for i in range(xp.shape[0]):\n",
    "            plt.title(\"{} Sampled points at iteration {}\".format(problem.name, i))\n",
    "            plt.scatter(xp[i,0], xp[i,1])\n",
    "            plt.savefig(\"../figs/{}Iteration{}\".format(problem.name.replace(\" \", \"\"), i))\n",
    "\n",
    "def plotOfflinePerformance(olp, problem, repeatNumber):\n",
    "    plt.clf()\n",
    "    plt.plot(range(1,len(olp) + 1), olp)\n",
    "    plt.hlines(problem.optimum, 1, len(olp), colors=\"r\")\n",
    "    plt.xlabel(\"iteration\")\n",
    "    plt.ylabel(\"Rolling Mean Offline Performance\")\n",
    "    plt.title(\"Mean offline Performance- {}-{}\".format(problem.name, repeatNumber))\n",
    "    plt.savefig(\"../figs/meanofflineperformance_{}_{}\".format(problem.name, repeatNumber))\n",
    "\n",
    "def do(problem, iteration):\n",
    "    xp, yp = bayesian_optimisation(n_iters = 50,\n",
    "                              sample_loss = problem.function,\n",
    "                              bounds = problem.bounds,\n",
    "                              n_pre_samples = 2,\n",
    "                              random_search = False)\n",
    "    if iteration==0:\n",
    "        plotResults(xp,yp, problem)\n",
    "    return OfflinePerformance(yp)"
   ]
  },
  {
   "cell_type": "code",
   "execution_count": 16,
   "metadata": {},
   "outputs": [
    {
     "name": "stdout",
     "output_type": "stream",
     "text": [
      "Stopping search: maximum iterations reached --> 100\n",
      "Stopping search: maximum iterations reached --> 100\n",
      "Stopping search: maximum iterations reached --> 100\n",
      "Stopping search: Swarm best objective change less than 1e-08\n",
      "Stopping search: Swarm best objective change less than 1e-08\n",
      "Stopping search: Swarm best objective change less than 1e-08\n",
      "Stopping search: Swarm best objective change less than 1e-08\n",
      "Stopping search: Swarm best objective change less than 1e-08\n",
      "Stopping search: Swarm best objective change less than 1e-08\n",
      "Stopping search: Swarm best objective change less than 1e-08\n",
      "Stopping search: Swarm best objective change less than 1e-08\n",
      "Stopping search: Swarm best objective change less than 1e-08\n",
      "Stopping search: Swarm best objective change less than 1e-08\n",
      "Stopping search: Swarm best objective change less than 1e-08\n",
      "Stopping search: Swarm best objective change less than 1e-08\n",
      "Stopping search: Swarm best objective change less than 1e-08\n",
      "Stopping search: maximum iterations reached --> 100\n"
     ]
    },
    {
     "name": "stderr",
     "output_type": "stream",
     "text": [
      "/Users/danielzeiberg/miniconda3/lib/python3.6/site-packages/sklearn/gaussian_process/gpr.py:335: UserWarning: Predicted variances smaller than 0. Setting those variances to 0.\n",
      "  warnings.warn(\"Predicted variances smaller than 0. \"\n"
     ]
    },
    {
     "name": "stdout",
     "output_type": "stream",
     "text": [
      "Stopping search: maximum iterations reached --> 100\n",
      "Stopping search: maximum iterations reached --> 100\n",
      "Stopping search: maximum iterations reached --> 100\n",
      "Stopping search: maximum iterations reached --> 100\n",
      "Stopping search: maximum iterations reached --> 100\n",
      "Stopping search: maximum iterations reached --> 100\n",
      "Stopping search: maximum iterations reached --> 100\n",
      "Stopping search: maximum iterations reached --> 100\n",
      "Stopping search: maximum iterations reached --> 100\n",
      "Stopping search: maximum iterations reached --> 100\n",
      "Stopping search: maximum iterations reached --> 100\n",
      "Stopping search: maximum iterations reached --> 100\n",
      "Stopping search: Swarm best position change less than 1e-08\n",
      "Stopping search: maximum iterations reached --> 100\n",
      "Stopping search: maximum iterations reached --> 100\n",
      "Stopping search: Swarm best objective change less than 1e-08\n",
      "Stopping search: maximum iterations reached --> 100\n",
      "Stopping search: maximum iterations reached --> 100\n",
      "Stopping search: maximum iterations reached --> 100\n",
      "Stopping search: maximum iterations reached --> 100\n",
      "Stopping search: maximum iterations reached --> 100\n",
      "Stopping search: Swarm best objective change less than 1e-08\n",
      "Stopping search: maximum iterations reached --> 100\n",
      "Stopping search: maximum iterations reached --> 100\n",
      "Stopping search: Swarm best objective change less than 1e-08\n"
     ]
    },
    {
     "name": "stderr",
     "output_type": "stream",
     "text": [
      "/Users/danielzeiberg/miniconda3/lib/python3.6/site-packages/sklearn/gaussian_process/gpr.py:457: UserWarning: fmin_l_bfgs_b terminated abnormally with the  state: {'grad': array([-10059.08666992]), 'task': b'ABNORMAL_TERMINATION_IN_LNSRCH', 'funcalls': 520, 'nit': 31, 'warnflag': 2}\n",
      "  \" state: %s\" % convergence_dict)\n"
     ]
    },
    {
     "name": "stdout",
     "output_type": "stream",
     "text": [
      "Stopping search: maximum iterations reached --> 100\n"
     ]
    },
    {
     "name": "stderr",
     "output_type": "stream",
     "text": [
      "/Users/danielzeiberg/miniconda3/lib/python3.6/site-packages/sklearn/gaussian_process/gpr.py:457: UserWarning: fmin_l_bfgs_b terminated abnormally with the  state: {'grad': array([10109.140625]), 'task': b'ABNORMAL_TERMINATION_IN_LNSRCH', 'funcalls': 55, 'nit': 4, 'warnflag': 2}\n",
      "  \" state: %s\" % convergence_dict)\n"
     ]
    },
    {
     "name": "stdout",
     "output_type": "stream",
     "text": [
      "Stopping search: maximum iterations reached --> 100\n",
      "Stopping search: maximum iterations reached --> 100\n",
      "Stopping search: maximum iterations reached --> 100\n",
      "Stopping search: maximum iterations reached --> 100\n",
      "Stopping search: Swarm best objective change less than 1e-08\n"
     ]
    },
    {
     "name": "stderr",
     "output_type": "stream",
     "text": [
      "/Users/danielzeiberg/miniconda3/lib/python3.6/site-packages/sklearn/gaussian_process/gpr.py:457: UserWarning: fmin_l_bfgs_b terminated abnormally with the  state: {'grad': array([-3732.84288044]), 'task': b'ABNORMAL_TERMINATION_IN_LNSRCH', 'funcalls': 51, 'nit': 4, 'warnflag': 2}\n",
      "  \" state: %s\" % convergence_dict)\n"
     ]
    },
    {
     "name": "stdout",
     "output_type": "stream",
     "text": [
      "Stopping search: maximum iterations reached --> 100\n",
      "Stopping search: maximum iterations reached --> 100\n",
      "Stopping search: maximum iterations reached --> 100\n",
      "Stopping search: maximum iterations reached --> 100\n",
      "gp.py: Duplicate in next_sample, choosing next sample randomly\n",
      "Stopping search: maximum iterations reached --> 100\n",
      "gp.py: Duplicate in next_sample, choosing next sample randomly\n",
      "Stopping search: maximum iterations reached --> 100\n",
      "Stopping search: maximum iterations reached --> 100\n",
      "Stopping search: maximum iterations reached --> 100\n",
      "Stopping search: maximum iterations reached --> 100\n",
      "Stopping search: Swarm best objective change less than 1e-08\n",
      "gp.py: Duplicate in next_sample, choosing next sample randomly\n",
      "Stopping search: maximum iterations reached --> 100\n",
      "Stopping search: Swarm best objective change less than 1e-08\n",
      "gp.py: Duplicate in next_sample, choosing next sample randomly\n",
      "Stopping search: Swarm best objective change less than 1e-08\n",
      "gp.py: Duplicate in next_sample, choosing next sample randomly\n",
      "Stopping search: Swarm best objective change less than 1e-08\n",
      "gp.py: Duplicate in next_sample, choosing next sample randomly\n",
      "Stopping search: Swarm best objective change less than 1e-08\n",
      "Stopping search: Swarm best objective change less than 1e-08\n",
      "Stopping search: Swarm best objective change less than 1e-08\n",
      "Stopping search: Swarm best objective change less than 1e-08\n",
      "gp.py: Duplicate in next_sample, choosing next sample randomly\n",
      "Stopping search: maximum iterations reached --> 100\n",
      "Stopping search: Swarm best objective change less than 1e-08\n",
      "gp.py: Duplicate in next_sample, choosing next sample randomly\n",
      "Stopping search: Swarm best objective change less than 1e-08\n",
      "gp.py: Duplicate in next_sample, choosing next sample randomly\n",
      "Stopping search: maximum iterations reached --> 100\n",
      "Stopping search: maximum iterations reached --> 100\n",
      "Stopping search: Swarm best objective change less than 1e-08\n",
      "gp.py: Duplicate in next_sample, choosing next sample randomly\n",
      "Stopping search: Swarm best objective change less than 1e-08\n",
      "gp.py: Duplicate in next_sample, choosing next sample randomly\n",
      "Stopping search: Swarm best objective change less than 1e-08\n",
      "gp.py: Duplicate in next_sample, choosing next sample randomly\n",
      "Stopping search: maximum iterations reached --> 100\n",
      "Stopping search: Swarm best objective change less than 1e-08\n",
      "gp.py: Duplicate in next_sample, choosing next sample randomly\n",
      "Stopping search: Swarm best objective change less than 1e-08\n",
      "gp.py: Duplicate in next_sample, choosing next sample randomly\n",
      "Stopping search: maximum iterations reached --> 100\n",
      "Stopping search: Swarm best objective change less than 1e-08\n",
      "gp.py: Duplicate in next_sample, choosing next sample randomly\n",
      "Stopping search: Swarm best objective change less than 1e-08\n",
      "gp.py: Duplicate in next_sample, choosing next sample randomly\n",
      "Stopping search: Swarm best objective change less than 1e-08\n",
      "gp.py: Duplicate in next_sample, choosing next sample randomly\n",
      "Stopping search: Swarm best objective change less than 1e-08\n",
      "Stopping search: Swarm best objective change less than 1e-08\n",
      "Stopping search: Swarm best objective change less than 1e-08\n",
      "Stopping search: Swarm best objective change less than 1e-08\n",
      "Stopping search: Swarm best objective change less than 1e-08\n",
      "Stopping search: Swarm best objective change less than 1e-08\n",
      "Stopping search: Swarm best objective change less than 1e-08\n",
      "Stopping search: Swarm best objective change less than 1e-08\n",
      "Stopping search: Swarm best objective change less than 1e-08\n",
      "Stopping search: Swarm best objective change less than 1e-08\n",
      "Stopping search: Swarm best objective change less than 1e-08\n",
      "Stopping search: Swarm best objective change less than 1e-08\n",
      "Stopping search: maximum iterations reached --> 100\n",
      "Stopping search: Swarm best objective change less than 1e-08\n",
      "Stopping search: Swarm best objective change less than 1e-08\n",
      "Stopping search: Swarm best objective change less than 1e-08\n",
      "Stopping search: Swarm best objective change less than 1e-08\n",
      "gp.py: Duplicate in next_sample, choosing next sample randomly\n",
      "Stopping search: Swarm best objective change less than 1e-08\n",
      "Stopping search: Swarm best objective change less than 1e-08\n",
      "Stopping search: maximum iterations reached --> 100\n",
      "Stopping search: maximum iterations reached --> 100\n",
      "gp.py: Duplicate in next_sample, choosing next sample randomly\n",
      "Stopping search: maximum iterations reached --> 100\n",
      "gp.py: Duplicate in next_sample, choosing next sample randomly\n",
      "Stopping search: maximum iterations reached --> 100\n",
      "gp.py: Duplicate in next_sample, choosing next sample randomly\n",
      "Stopping search: maximum iterations reached --> 100\n",
      "gp.py: Duplicate in next_sample, choosing next sample randomly\n",
      "Stopping search: maximum iterations reached --> 100\n",
      "gp.py: Duplicate in next_sample, choosing next sample randomly\n",
      "Stopping search: maximum iterations reached --> 100\n",
      "gp.py: Duplicate in next_sample, choosing next sample randomly\n",
      "Stopping search: maximum iterations reached --> 100\n",
      "gp.py: Duplicate in next_sample, choosing next sample randomly\n",
      "Stopping search: Swarm best objective change less than 1e-08\n",
      "Stopping search: Swarm best objective change less than 1e-08\n",
      "Stopping search: Swarm best objective change less than 1e-08\n",
      "Stopping search: Swarm best objective change less than 1e-08\n",
      "Stopping search: Swarm best objective change less than 1e-08\n",
      "Stopping search: Swarm best objective change less than 1e-08\n",
      "Stopping search: Swarm best objective change less than 1e-08\n",
      "Stopping search: Swarm best objective change less than 1e-08\n",
      "Stopping search: Swarm best objective change less than 1e-08\n",
      "Stopping search: Swarm best objective change less than 1e-08\n",
      "Stopping search: Swarm best objective change less than 1e-08\n",
      "Stopping search: maximum iterations reached --> 100\n",
      "Stopping search: maximum iterations reached --> 100\n",
      "Stopping search: Swarm best objective change less than 1e-08\n",
      "gp.py: Duplicate in next_sample, choosing next sample randomly\n",
      "Stopping search: Swarm best objective change less than 1e-08\n",
      "gp.py: Duplicate in next_sample, choosing next sample randomly\n",
      "Stopping search: maximum iterations reached --> 100\n",
      "Stopping search: Swarm best objective change less than 1e-08\n",
      "gp.py: Duplicate in next_sample, choosing next sample randomly\n",
      "Stopping search: Swarm best objective change less than 1e-08\n",
      "gp.py: Duplicate in next_sample, choosing next sample randomly\n",
      "Stopping search: maximum iterations reached --> 100\n",
      "Stopping search: Swarm best objective change less than 1e-08\n",
      "gp.py: Duplicate in next_sample, choosing next sample randomly\n",
      "Stopping search: Swarm best objective change less than 1e-08\n",
      "gp.py: Duplicate in next_sample, choosing next sample randomly\n",
      "Stopping search: Swarm best objective change less than 1e-08\n",
      "gp.py: Duplicate in next_sample, choosing next sample randomly\n",
      "Stopping search: Swarm best objective change less than 1e-08\n",
      "gp.py: Duplicate in next_sample, choosing next sample randomly\n",
      "Stopping search: Swarm best objective change less than 1e-08\n",
      "gp.py: Duplicate in next_sample, choosing next sample randomly\n",
      "Stopping search: Swarm best objective change less than 1e-08\n",
      "gp.py: Duplicate in next_sample, choosing next sample randomly\n",
      "Stopping search: Swarm best objective change less than 1e-08\n",
      "gp.py: Duplicate in next_sample, choosing next sample randomly\n",
      "Stopping search: Swarm best objective change less than 1e-08\n",
      "gp.py: Duplicate in next_sample, choosing next sample randomly\n",
      "Stopping search: Swarm best objective change less than 1e-08\n",
      "gp.py: Duplicate in next_sample, choosing next sample randomly\n",
      "Stopping search: Swarm best objective change less than 1e-08\n",
      "gp.py: Duplicate in next_sample, choosing next sample randomly\n",
      "Stopping search: Swarm best objective change less than 1e-08\n",
      "gp.py: Duplicate in next_sample, choosing next sample randomly\n",
      "Stopping search: Swarm best objective change less than 1e-08\n",
      "gp.py: Duplicate in next_sample, choosing next sample randomly\n",
      "Stopping search: Swarm best objective change less than 1e-08\n",
      "gp.py: Duplicate in next_sample, choosing next sample randomly\n",
      "Stopping search: Swarm best objective change less than 1e-08\n",
      "gp.py: Duplicate in next_sample, choosing next sample randomly\n",
      "Stopping search: Swarm best objective change less than 1e-08\n",
      "gp.py: Duplicate in next_sample, choosing next sample randomly\n"
     ]
    },
    {
     "name": "stdout",
     "output_type": "stream",
     "text": [
      "Stopping search: maximum iterations reached --> 100\n",
      "Stopping search: Swarm best objective change less than 1e-08\n",
      "Stopping search: Swarm best objective change less than 1e-08\n",
      "gp.py: Duplicate in next_sample, choosing next sample randomly\n",
      "Stopping search: Swarm best objective change less than 1e-08\n",
      "gp.py: Duplicate in next_sample, choosing next sample randomly\n",
      "Stopping search: Swarm best objective change less than 1e-08\n",
      "gp.py: Duplicate in next_sample, choosing next sample randomly\n",
      "Stopping search: Swarm best objective change less than 1e-08\n",
      "Stopping search: Swarm best objective change less than 1e-08\n",
      "gp.py: Duplicate in next_sample, choosing next sample randomly\n",
      "Stopping search: Swarm best objective change less than 1e-08\n",
      "gp.py: Duplicate in next_sample, choosing next sample randomly\n",
      "Stopping search: maximum iterations reached --> 100\n",
      "Stopping search: maximum iterations reached --> 100\n",
      "Stopping search: Swarm best objective change less than 1e-08\n",
      "Stopping search: Swarm best objective change less than 1e-08\n",
      "Stopping search: Swarm best objective change less than 1e-08\n",
      "Stopping search: Swarm best objective change less than 1e-08\n",
      "Stopping search: Swarm best objective change less than 1e-08\n",
      "Stopping search: Swarm best objective change less than 1e-08\n",
      "Stopping search: Swarm best objective change less than 1e-08\n",
      "Stopping search: Swarm best objective change less than 1e-08\n",
      "Stopping search: Swarm best objective change less than 1e-08\n",
      "Stopping search: Swarm best objective change less than 1e-08\n",
      "Stopping search: Swarm best objective change less than 1e-08\n",
      "Stopping search: Swarm best objective change less than 1e-08\n",
      "Stopping search: maximum iterations reached --> 100\n",
      "Stopping search: Swarm best objective change less than 1e-08\n",
      "Stopping search: Swarm best objective change less than 1e-08\n",
      "Stopping search: Swarm best objective change less than 1e-08\n",
      "Stopping search: maximum iterations reached --> 100\n",
      "Stopping search: Swarm best objective change less than 1e-08\n",
      "Stopping search: maximum iterations reached --> 100\n",
      "Stopping search: Swarm best objective change less than 1e-08\n"
     ]
    },
    {
     "name": "stderr",
     "output_type": "stream",
     "text": [
      "/Users/danielzeiberg/miniconda3/lib/python3.6/site-packages/sklearn/gaussian_process/gpr.py:457: UserWarning: fmin_l_bfgs_b terminated abnormally with the  state: {'grad': array([-11.14539574]), 'task': b'ABNORMAL_TERMINATION_IN_LNSRCH', 'funcalls': 21, 'nit': 0, 'warnflag': 2}\n",
      "  \" state: %s\" % convergence_dict)\n"
     ]
    },
    {
     "name": "stdout",
     "output_type": "stream",
     "text": [
      "Stopping search: Swarm best objective change less than 1e-08\n"
     ]
    },
    {
     "name": "stderr",
     "output_type": "stream",
     "text": [
      "/Users/danielzeiberg/miniconda3/lib/python3.6/site-packages/sklearn/gaussian_process/gpr.py:457: UserWarning: fmin_l_bfgs_b terminated abnormally with the  state: {'grad': array([-156.79005248]), 'task': b'ABNORMAL_TERMINATION_IN_LNSRCH', 'funcalls': 21, 'nit': 0, 'warnflag': 2}\n",
      "  \" state: %s\" % convergence_dict)\n"
     ]
    },
    {
     "name": "stdout",
     "output_type": "stream",
     "text": [
      "Stopping search: maximum iterations reached --> 100\n"
     ]
    },
    {
     "name": "stderr",
     "output_type": "stream",
     "text": [
      "/Users/danielzeiberg/miniconda3/lib/python3.6/site-packages/sklearn/gaussian_process/gpr.py:457: UserWarning: fmin_l_bfgs_b terminated abnormally with the  state: {'grad': array([-185.43717684]), 'task': b'ABNORMAL_TERMINATION_IN_LNSRCH', 'funcalls': 21, 'nit': 0, 'warnflag': 2}\n",
      "  \" state: %s\" % convergence_dict)\n"
     ]
    },
    {
     "name": "stdout",
     "output_type": "stream",
     "text": [
      "Stopping search: maximum iterations reached --> 100\n",
      "Stopping search: maximum iterations reached --> 100\n",
      "Stopping search: maximum iterations reached --> 100\n",
      "Stopping search: maximum iterations reached --> 100\n"
     ]
    },
    {
     "name": "stderr",
     "output_type": "stream",
     "text": [
      "/Users/danielzeiberg/miniconda3/lib/python3.6/site-packages/sklearn/gaussian_process/gpr.py:457: UserWarning: fmin_l_bfgs_b terminated abnormally with the  state: {'grad': array([-0.00043363]), 'task': b'ABNORMAL_TERMINATION_IN_LNSRCH', 'funcalls': 56, 'nit': 4, 'warnflag': 2}\n",
      "  \" state: %s\" % convergence_dict)\n"
     ]
    },
    {
     "name": "stdout",
     "output_type": "stream",
     "text": [
      "Stopping search: maximum iterations reached --> 100\n"
     ]
    },
    {
     "name": "stderr",
     "output_type": "stream",
     "text": [
      "/Users/danielzeiberg/miniconda3/lib/python3.6/site-packages/sklearn/gaussian_process/gpr.py:457: UserWarning: fmin_l_bfgs_b terminated abnormally with the  state: {'grad': array([-45.23211753]), 'task': b'ABNORMAL_TERMINATION_IN_LNSRCH', 'funcalls': 50, 'nit': 1, 'warnflag': 2}\n",
      "  \" state: %s\" % convergence_dict)\n"
     ]
    },
    {
     "name": "stdout",
     "output_type": "stream",
     "text": [
      "Stopping search: maximum iterations reached --> 100\n",
      "Stopping search: maximum iterations reached --> 100\n"
     ]
    },
    {
     "name": "stderr",
     "output_type": "stream",
     "text": [
      "/Users/danielzeiberg/miniconda3/lib/python3.6/site-packages/sklearn/gaussian_process/gpr.py:457: UserWarning: fmin_l_bfgs_b terminated abnormally with the  state: {'grad': array([-81.95648513]), 'task': b'ABNORMAL_TERMINATION_IN_LNSRCH', 'funcalls': 31, 'nit': 2, 'warnflag': 2}\n",
      "  \" state: %s\" % convergence_dict)\n"
     ]
    },
    {
     "name": "stdout",
     "output_type": "stream",
     "text": [
      "Stopping search: maximum iterations reached --> 100\n",
      "Stopping search: maximum iterations reached --> 100\n"
     ]
    },
    {
     "name": "stderr",
     "output_type": "stream",
     "text": [
      "/Users/danielzeiberg/miniconda3/lib/python3.6/site-packages/sklearn/gaussian_process/gpr.py:457: UserWarning: fmin_l_bfgs_b terminated abnormally with the  state: {'grad': array([-52.38092317]), 'task': b'ABNORMAL_TERMINATION_IN_LNSRCH', 'funcalls': 21, 'nit': 0, 'warnflag': 2}\n",
      "  \" state: %s\" % convergence_dict)\n",
      "/Users/danielzeiberg/miniconda3/lib/python3.6/site-packages/sklearn/gaussian_process/gpr.py:457: UserWarning: fmin_l_bfgs_b terminated abnormally with the  state: {'grad': array([-103.21252988]), 'task': b'ABNORMAL_TERMINATION_IN_LNSRCH', 'funcalls': 30, 'nit': 2, 'warnflag': 2}\n",
      "  \" state: %s\" % convergence_dict)\n"
     ]
    },
    {
     "name": "stdout",
     "output_type": "stream",
     "text": [
      "Stopping search: maximum iterations reached --> 100\n",
      "Stopping search: maximum iterations reached --> 100\n"
     ]
    },
    {
     "name": "stderr",
     "output_type": "stream",
     "text": [
      "/Users/danielzeiberg/miniconda3/lib/python3.6/site-packages/sklearn/gaussian_process/gpr.py:457: UserWarning: fmin_l_bfgs_b terminated abnormally with the  state: {'grad': array([-40.12377745]), 'task': b'ABNORMAL_TERMINATION_IN_LNSRCH', 'funcalls': 48, 'nit': 1, 'warnflag': 2}\n",
      "  \" state: %s\" % convergence_dict)\n"
     ]
    },
    {
     "name": "stdout",
     "output_type": "stream",
     "text": [
      "Stopping search: Swarm best objective change less than 1e-08\n"
     ]
    },
    {
     "name": "stderr",
     "output_type": "stream",
     "text": [
      "/Users/danielzeiberg/miniconda3/lib/python3.6/site-packages/sklearn/gaussian_process/gpr.py:457: UserWarning: fmin_l_bfgs_b terminated abnormally with the  state: {'grad': array([-58.7930609]), 'task': b'ABNORMAL_TERMINATION_IN_LNSRCH', 'funcalls': 56, 'nit': 2, 'warnflag': 2}\n",
      "  \" state: %s\" % convergence_dict)\n",
      "/Users/danielzeiberg/miniconda3/lib/python3.6/site-packages/sklearn/gaussian_process/gpr.py:457: UserWarning: fmin_l_bfgs_b terminated abnormally with the  state: {'grad': array([-58.7930609]), 'task': b'ABNORMAL_TERMINATION_IN_LNSRCH', 'funcalls': 36, 'nit': 2, 'warnflag': 2}\n",
      "  \" state: %s\" % convergence_dict)\n"
     ]
    },
    {
     "name": "stdout",
     "output_type": "stream",
     "text": [
      "Stopping search: maximum iterations reached --> 100\n"
     ]
    },
    {
     "name": "stderr",
     "output_type": "stream",
     "text": [
      "/Users/danielzeiberg/miniconda3/lib/python3.6/site-packages/sklearn/gaussian_process/gpr.py:457: UserWarning: fmin_l_bfgs_b terminated abnormally with the  state: {'grad': array([-52.27577034]), 'task': b'ABNORMAL_TERMINATION_IN_LNSRCH', 'funcalls': 21, 'nit': 0, 'warnflag': 2}\n",
      "  \" state: %s\" % convergence_dict)\n",
      "/Users/danielzeiberg/miniconda3/lib/python3.6/site-packages/sklearn/gaussian_process/gpr.py:457: UserWarning: fmin_l_bfgs_b terminated abnormally with the  state: {'grad': array([-119.2535987]), 'task': b'ABNORMAL_TERMINATION_IN_LNSRCH', 'funcalls': 45, 'nit': 1, 'warnflag': 2}\n",
      "  \" state: %s\" % convergence_dict)\n"
     ]
    },
    {
     "name": "stdout",
     "output_type": "stream",
     "text": [
      "Stopping search: maximum iterations reached --> 100\n"
     ]
    },
    {
     "name": "stderr",
     "output_type": "stream",
     "text": [
      "/Users/danielzeiberg/miniconda3/lib/python3.6/site-packages/sklearn/gaussian_process/gpr.py:457: UserWarning: fmin_l_bfgs_b terminated abnormally with the  state: {'grad': array([-63.76986217]), 'task': b'ABNORMAL_TERMINATION_IN_LNSRCH', 'funcalls': 21, 'nit': 0, 'warnflag': 2}\n",
      "  \" state: %s\" % convergence_dict)\n",
      "/Users/danielzeiberg/miniconda3/lib/python3.6/site-packages/sklearn/gaussian_process/gpr.py:457: UserWarning: fmin_l_bfgs_b terminated abnormally with the  state: {'grad': array([-116.11224715]), 'task': b'ABNORMAL_TERMINATION_IN_LNSRCH', 'funcalls': 49, 'nit': 2, 'warnflag': 2}\n",
      "  \" state: %s\" % convergence_dict)\n"
     ]
    },
    {
     "name": "stdout",
     "output_type": "stream",
     "text": [
      "Stopping search: maximum iterations reached --> 100\n",
      "Stopping search: maximum iterations reached --> 100\n",
      "Stopping search: maximum iterations reached --> 100\n",
      "Stopping search: maximum iterations reached --> 100\n",
      "Stopping search: maximum iterations reached --> 100\n",
      "Stopping search: maximum iterations reached --> 100\n"
     ]
    },
    {
     "name": "stderr",
     "output_type": "stream",
     "text": [
      "/Users/danielzeiberg/miniconda3/lib/python3.6/site-packages/sklearn/gaussian_process/gpr.py:457: UserWarning: fmin_l_bfgs_b terminated abnormally with the  state: {'grad': array([0.00434826]), 'task': b'ABNORMAL_TERMINATION_IN_LNSRCH', 'funcalls': 52, 'nit': 5, 'warnflag': 2}\n",
      "  \" state: %s\" % convergence_dict)\n"
     ]
    },
    {
     "name": "stdout",
     "output_type": "stream",
     "text": [
      "Stopping search: maximum iterations reached --> 100\n"
     ]
    },
    {
     "name": "stderr",
     "output_type": "stream",
     "text": [
      "/Users/danielzeiberg/miniconda3/lib/python3.6/site-packages/sklearn/gaussian_process/gpr.py:457: UserWarning: fmin_l_bfgs_b terminated abnormally with the  state: {'grad': array([-30.6458451]), 'task': b'ABNORMAL_TERMINATION_IN_LNSRCH', 'funcalls': 54, 'nit': 2, 'warnflag': 2}\n",
      "  \" state: %s\" % convergence_dict)\n",
      "/Users/danielzeiberg/miniconda3/lib/python3.6/site-packages/sklearn/gaussian_process/gpr.py:457: UserWarning: fmin_l_bfgs_b terminated abnormally with the  state: {'grad': array([-30.6458451]), 'task': b'ABNORMAL_TERMINATION_IN_LNSRCH', 'funcalls': 34, 'nit': 2, 'warnflag': 2}\n",
      "  \" state: %s\" % convergence_dict)\n"
     ]
    },
    {
     "name": "stdout",
     "output_type": "stream",
     "text": [
      "Stopping search: maximum iterations reached --> 100\n"
     ]
    },
    {
     "name": "stderr",
     "output_type": "stream",
     "text": [
      "/Users/danielzeiberg/miniconda3/lib/python3.6/site-packages/sklearn/gaussian_process/gpr.py:457: UserWarning: fmin_l_bfgs_b terminated abnormally with the  state: {'grad': array([-62.18515501]), 'task': b'ABNORMAL_TERMINATION_IN_LNSRCH', 'funcalls': 54, 'nit': 2, 'warnflag': 2}\n",
      "  \" state: %s\" % convergence_dict)\n"
     ]
    },
    {
     "name": "stdout",
     "output_type": "stream",
     "text": [
      "Stopping search: maximum iterations reached --> 100\n"
     ]
    },
    {
     "name": "stderr",
     "output_type": "stream",
     "text": [
      "/Users/danielzeiberg/miniconda3/lib/python3.6/site-packages/sklearn/gaussian_process/gpr.py:457: UserWarning: fmin_l_bfgs_b terminated abnormally with the  state: {'grad': array([-112.29202376]), 'task': b'ABNORMAL_TERMINATION_IN_LNSRCH', 'funcalls': 21, 'nit': 0, 'warnflag': 2}\n",
      "  \" state: %s\" % convergence_dict)\n"
     ]
    },
    {
     "name": "stdout",
     "output_type": "stream",
     "text": [
      "Stopping search: maximum iterations reached --> 100\n"
     ]
    },
    {
     "name": "stderr",
     "output_type": "stream",
     "text": [
      "/Users/danielzeiberg/miniconda3/lib/python3.6/site-packages/sklearn/gaussian_process/gpr.py:457: UserWarning: fmin_l_bfgs_b terminated abnormally with the  state: {'grad': array([-0.00409326]), 'task': b'ABNORMAL_TERMINATION_IN_LNSRCH', 'funcalls': 52, 'nit': 5, 'warnflag': 2}\n",
      "  \" state: %s\" % convergence_dict)\n"
     ]
    },
    {
     "name": "stdout",
     "output_type": "stream",
     "text": [
      "Stopping search: maximum iterations reached --> 100\n",
      "Stopping search: maximum iterations reached --> 100\n",
      "Stopping search: maximum iterations reached --> 100\n",
      "Stopping search: maximum iterations reached --> 100\n",
      "Stopping search: Swarm best objective change less than 1e-08\n",
      "Stopping search: Swarm best objective change less than 1e-08\n",
      "Stopping search: maximum iterations reached --> 100\n",
      "Stopping search: Swarm best objective change less than 1e-08\n",
      "Stopping search: Swarm best objective change less than 1e-08\n",
      "Stopping search: Swarm best objective change less than 1e-08\n",
      "Stopping search: Swarm best objective change less than 1e-08\n",
      "Stopping search: Swarm best objective change less than 1e-08\n",
      "Stopping search: Swarm best objective change less than 1e-08\n",
      "Stopping search: Swarm best objective change less than 1e-08\n",
      "Stopping search: Swarm best objective change less than 1e-08\n",
      "Stopping search: Swarm best objective change less than 1e-08\n",
      "Stopping search: Swarm best objective change less than 1e-08\n",
      "Stopping search: Swarm best objective change less than 1e-08\n",
      "Stopping search: Swarm best objective change less than 1e-08\n",
      "Stopping search: Swarm best objective change less than 1e-08\n",
      "Stopping search: Swarm best objective change less than 1e-08\n",
      "Stopping search: Swarm best objective change less than 1e-08\n",
      "Stopping search: Swarm best objective change less than 1e-08\n",
      "Stopping search: Swarm best objective change less than 1e-08\n",
      "Stopping search: Swarm best objective change less than 1e-08\n",
      "Stopping search: Swarm best objective change less than 1e-08\n",
      "Stopping search: Swarm best objective change less than 1e-08\n"
     ]
    },
    {
     "name": "stderr",
     "output_type": "stream",
     "text": [
      "/Users/danielzeiberg/miniconda3/lib/python3.6/site-packages/sklearn/gaussian_process/gpr.py:457: UserWarning: fmin_l_bfgs_b terminated abnormally with the  state: {'grad': array([-0.00015182]), 'task': b'ABNORMAL_TERMINATION_IN_LNSRCH', 'funcalls': 54, 'nit': 2, 'warnflag': 2}\n",
      "  \" state: %s\" % convergence_dict)\n"
     ]
    },
    {
     "name": "stdout",
     "output_type": "stream",
     "text": [
      "Stopping search: Swarm best objective change less than 1e-08\n",
      "Stopping search: Swarm best objective change less than 1e-08\n",
      "Stopping search: Swarm best objective change less than 1e-08\n",
      "Stopping search: Swarm best objective change less than 1e-08\n",
      "Stopping search: Swarm best objective change less than 1e-08\n",
      "Stopping search: Swarm best objective change less than 1e-08\n",
      "Stopping search: Swarm best objective change less than 1e-08\n",
      "Stopping search: Swarm best objective change less than 1e-08\n",
      "Stopping search: Swarm best objective change less than 1e-08\n",
      "Stopping search: Swarm best objective change less than 1e-08\n",
      "Stopping search: Swarm best objective change less than 1e-08\n",
      "Stopping search: Swarm best objective change less than 1e-08\n",
      "Stopping search: Swarm best objective change less than 1e-08\n",
      "Stopping search: Swarm best objective change less than 1e-08\n",
      "Stopping search: Swarm best objective change less than 1e-08\n",
      "Stopping search: Swarm best objective change less than 1e-08\n",
      "Stopping search: Swarm best objective change less than 1e-08\n",
      "Stopping search: Swarm best objective change less than 1e-08\n",
      "Stopping search: Swarm best objective change less than 1e-08\n",
      "Stopping search: Swarm best objective change less than 1e-08\n",
      "Stopping search: Swarm best objective change less than 1e-08\n",
      "Stopping search: Swarm best objective change less than 1e-08\n",
      "Stopping search: Swarm best objective change less than 1e-08\n",
      "Stopping search: Swarm best objective change less than 1e-08\n",
      "Stopping search: Swarm best objective change less than 1e-08\n",
      "Stopping search: maximum iterations reached --> 100\n",
      "Stopping search: maximum iterations reached --> 100\n",
      "Stopping search: maximum iterations reached --> 100\n",
      "Stopping search: maximum iterations reached --> 100\n",
      "Stopping search: maximum iterations reached --> 100\n",
      "Stopping search: maximum iterations reached --> 100\n",
      "Stopping search: maximum iterations reached --> 100\n",
      "Stopping search: maximum iterations reached --> 100\n",
      "Stopping search: maximum iterations reached --> 100\n",
      "Stopping search: Swarm best objective change less than 1e-08\n",
      "Stopping search: Swarm best objective change less than 1e-08\n",
      "Stopping search: Swarm best objective change less than 1e-08\n",
      "Stopping search: Swarm best objective change less than 1e-08\n",
      "Stopping search: Swarm best objective change less than 1e-08\n",
      "Stopping search: Swarm best objective change less than 1e-08\n"
     ]
    },
    {
     "name": "stderr",
     "output_type": "stream",
     "text": [
      "/Users/danielzeiberg/miniconda3/lib/python3.6/site-packages/sklearn/gaussian_process/gpr.py:457: UserWarning: fmin_l_bfgs_b terminated abnormally with the  state: {'grad': array([-20.75839944]), 'task': b'ABNORMAL_TERMINATION_IN_LNSRCH', 'funcalls': 21, 'nit': 0, 'warnflag': 2}\n",
      "  \" state: %s\" % convergence_dict)\n"
     ]
    },
    {
     "name": "stdout",
     "output_type": "stream",
     "text": [
      "Stopping search: Swarm best objective change less than 1e-08\n",
      "Stopping search: maximum iterations reached --> 100\n",
      "Stopping search: maximum iterations reached --> 100\n",
      "Stopping search: maximum iterations reached --> 100\n",
      "Stopping search: maximum iterations reached --> 100\n",
      "Stopping search: maximum iterations reached --> 100\n"
     ]
    },
    {
     "name": "stderr",
     "output_type": "stream",
     "text": [
      "/Users/danielzeiberg/miniconda3/lib/python3.6/site-packages/sklearn/gaussian_process/gpr.py:457: UserWarning: fmin_l_bfgs_b terminated abnormally with the  state: {'grad': array([-52.76861453]), 'task': b'ABNORMAL_TERMINATION_IN_LNSRCH', 'funcalls': 30, 'nit': 1, 'warnflag': 2}\n",
      "  \" state: %s\" % convergence_dict)\n"
     ]
    },
    {
     "name": "stdout",
     "output_type": "stream",
     "text": [
      "Stopping search: maximum iterations reached --> 100\n",
      "Stopping search: Swarm best position change less than 1e-08\n",
      "Stopping search: Swarm best objective change less than 1e-08\n",
      "Stopping search: maximum iterations reached --> 100\n",
      "Stopping search: maximum iterations reached --> 100\n",
      "Stopping search: maximum iterations reached --> 100\n",
      "Stopping search: maximum iterations reached --> 100\n"
     ]
    },
    {
     "name": "stderr",
     "output_type": "stream",
     "text": [
      "/Users/danielzeiberg/miniconda3/lib/python3.6/site-packages/sklearn/gaussian_process/gpr.py:457: UserWarning: fmin_l_bfgs_b terminated abnormally with the  state: {'grad': array([-114.83088303]), 'task': b'ABNORMAL_TERMINATION_IN_LNSRCH', 'funcalls': 21, 'nit': 0, 'warnflag': 2}\n",
      "  \" state: %s\" % convergence_dict)\n"
     ]
    },
    {
     "name": "stdout",
     "output_type": "stream",
     "text": [
      "Stopping search: maximum iterations reached --> 100\n"
     ]
    },
    {
     "name": "stderr",
     "output_type": "stream",
     "text": [
      "/Users/danielzeiberg/miniconda3/lib/python3.6/site-packages/sklearn/gaussian_process/gpr.py:457: UserWarning: fmin_l_bfgs_b terminated abnormally with the  state: {'grad': array([-159.53810453]), 'task': b'ABNORMAL_TERMINATION_IN_LNSRCH', 'funcalls': 22, 'nit': 1, 'warnflag': 2}\n",
      "  \" state: %s\" % convergence_dict)\n"
     ]
    },
    {
     "name": "stdout",
     "output_type": "stream",
     "text": [
      "Stopping search: maximum iterations reached --> 100\n"
     ]
    },
    {
     "name": "stderr",
     "output_type": "stream",
     "text": [
      "/Users/danielzeiberg/miniconda3/lib/python3.6/site-packages/sklearn/gaussian_process/gpr.py:457: UserWarning: fmin_l_bfgs_b terminated abnormally with the  state: {'grad': array([-51.83143188]), 'task': b'ABNORMAL_TERMINATION_IN_LNSRCH', 'funcalls': 22, 'nit': 1, 'warnflag': 2}\n",
      "  \" state: %s\" % convergence_dict)\n"
     ]
    },
    {
     "name": "stdout",
     "output_type": "stream",
     "text": [
      "Stopping search: maximum iterations reached --> 100\n"
     ]
    },
    {
     "name": "stderr",
     "output_type": "stream",
     "text": [
      "/Users/danielzeiberg/miniconda3/lib/python3.6/site-packages/sklearn/gaussian_process/gpr.py:457: UserWarning: fmin_l_bfgs_b terminated abnormally with the  state: {'grad': array([-117.25080411]), 'task': b'ABNORMAL_TERMINATION_IN_LNSRCH', 'funcalls': 21, 'nit': 0, 'warnflag': 2}\n",
      "  \" state: %s\" % convergence_dict)\n"
     ]
    },
    {
     "name": "stdout",
     "output_type": "stream",
     "text": [
      "Stopping search: maximum iterations reached --> 100\n"
     ]
    },
    {
     "name": "stderr",
     "output_type": "stream",
     "text": [
      "/Users/danielzeiberg/miniconda3/lib/python3.6/site-packages/sklearn/gaussian_process/gpr.py:457: UserWarning: fmin_l_bfgs_b terminated abnormally with the  state: {'grad': array([-156.10375232]), 'task': b'ABNORMAL_TERMINATION_IN_LNSRCH', 'funcalls': 21, 'nit': 0, 'warnflag': 2}\n",
      "  \" state: %s\" % convergence_dict)\n"
     ]
    },
    {
     "name": "stdout",
     "output_type": "stream",
     "text": [
      "Stopping search: Swarm best objective change less than 1e-08\n"
     ]
    },
    {
     "name": "stderr",
     "output_type": "stream",
     "text": [
      "/Users/danielzeiberg/miniconda3/lib/python3.6/site-packages/sklearn/gaussian_process/gpr.py:457: UserWarning: fmin_l_bfgs_b terminated abnormally with the  state: {'grad': array([-0.00104284]), 'task': b'ABNORMAL_TERMINATION_IN_LNSRCH', 'funcalls': 56, 'nit': 6, 'warnflag': 2}\n",
      "  \" state: %s\" % convergence_dict)\n",
      "/Users/danielzeiberg/miniconda3/lib/python3.6/site-packages/sklearn/gaussian_process/gpr.py:457: UserWarning: fmin_l_bfgs_b terminated abnormally with the  state: {'grad': array([-0.00250506]), 'task': b'ABNORMAL_TERMINATION_IN_LNSRCH', 'funcalls': 58, 'nit': 6, 'warnflag': 2}\n",
      "  \" state: %s\" % convergence_dict)\n"
     ]
    },
    {
     "name": "stdout",
     "output_type": "stream",
     "text": [
      "Stopping search: Swarm best objective change less than 1e-08\n",
      "Stopping search: maximum iterations reached --> 100\n"
     ]
    },
    {
     "name": "stderr",
     "output_type": "stream",
     "text": [
      "/Users/danielzeiberg/miniconda3/lib/python3.6/site-packages/sklearn/gaussian_process/gpr.py:457: UserWarning: fmin_l_bfgs_b terminated abnormally with the  state: {'grad': array([-127.98464584]), 'task': b'ABNORMAL_TERMINATION_IN_LNSRCH', 'funcalls': 47, 'nit': 3, 'warnflag': 2}\n",
      "  \" state: %s\" % convergence_dict)\n",
      "/Users/danielzeiberg/miniconda3/lib/python3.6/site-packages/sklearn/gaussian_process/gpr.py:457: UserWarning: fmin_l_bfgs_b terminated abnormally with the  state: {'grad': array([-143.7355379]), 'task': b'ABNORMAL_TERMINATION_IN_LNSRCH', 'funcalls': 45, 'nit': 1, 'warnflag': 2}\n",
      "  \" state: %s\" % convergence_dict)\n"
     ]
    },
    {
     "name": "stdout",
     "output_type": "stream",
     "text": [
      "Stopping search: maximum iterations reached --> 100\n"
     ]
    },
    {
     "name": "stderr",
     "output_type": "stream",
     "text": [
      "/Users/danielzeiberg/miniconda3/lib/python3.6/site-packages/sklearn/gaussian_process/gpr.py:457: UserWarning: fmin_l_bfgs_b terminated abnormally with the  state: {'grad': array([-118.96278023]), 'task': b'ABNORMAL_TERMINATION_IN_LNSRCH', 'funcalls': 47, 'nit': 1, 'warnflag': 2}\n",
      "  \" state: %s\" % convergence_dict)\n"
     ]
    },
    {
     "name": "stdout",
     "output_type": "stream",
     "text": [
      "Stopping search: maximum iterations reached --> 100\n",
      "Stopping search: maximum iterations reached --> 100\n"
     ]
    },
    {
     "name": "stderr",
     "output_type": "stream",
     "text": [
      "/Users/danielzeiberg/miniconda3/lib/python3.6/site-packages/sklearn/gaussian_process/gpr.py:457: UserWarning: fmin_l_bfgs_b terminated abnormally with the  state: {'grad': array([-191.65846166]), 'task': b'ABNORMAL_TERMINATION_IN_LNSRCH', 'funcalls': 21, 'nit': 0, 'warnflag': 2}\n",
      "  \" state: %s\" % convergence_dict)\n"
     ]
    },
    {
     "name": "stdout",
     "output_type": "stream",
     "text": [
      "Stopping search: maximum iterations reached --> 100\n"
     ]
    },
    {
     "name": "stderr",
     "output_type": "stream",
     "text": [
      "/Users/danielzeiberg/miniconda3/lib/python3.6/site-packages/sklearn/gaussian_process/gpr.py:457: UserWarning: fmin_l_bfgs_b terminated abnormally with the  state: {'grad': array([-173.27503276]), 'task': b'ABNORMAL_TERMINATION_IN_LNSRCH', 'funcalls': 21, 'nit': 0, 'warnflag': 2}\n",
      "  \" state: %s\" % convergence_dict)\n",
      "/Users/danielzeiberg/miniconda3/lib/python3.6/site-packages/sklearn/gaussian_process/gpr.py:457: UserWarning: fmin_l_bfgs_b terminated abnormally with the  state: {'grad': array([-169.56185305]), 'task': b'ABNORMAL_TERMINATION_IN_LNSRCH', 'funcalls': 21, 'nit': 0, 'warnflag': 2}\n",
      "  \" state: %s\" % convergence_dict)\n"
     ]
    },
    {
     "name": "stdout",
     "output_type": "stream",
     "text": [
      "Stopping search: Swarm best objective change less than 1e-08\n",
      "Stopping search: maximum iterations reached --> 100\n",
      "Stopping search: maximum iterations reached --> 100\n"
     ]
    },
    {
     "name": "stderr",
     "output_type": "stream",
     "text": [
      "/Users/danielzeiberg/miniconda3/lib/python3.6/site-packages/sklearn/gaussian_process/gpr.py:457: UserWarning: fmin_l_bfgs_b terminated abnormally with the  state: {'grad': array([-0.00033168]), 'task': b'ABNORMAL_TERMINATION_IN_LNSRCH', 'funcalls': 48, 'nit': 3, 'warnflag': 2}\n",
      "  \" state: %s\" % convergence_dict)\n"
     ]
    },
    {
     "name": "stdout",
     "output_type": "stream",
     "text": [
      "Stopping search: maximum iterations reached --> 100\n"
     ]
    },
    {
     "name": "stderr",
     "output_type": "stream",
     "text": [
      "/Users/danielzeiberg/miniconda3/lib/python3.6/site-packages/sklearn/gaussian_process/gpr.py:457: UserWarning: fmin_l_bfgs_b terminated abnormally with the  state: {'grad': array([-157.2160964]), 'task': b'ABNORMAL_TERMINATION_IN_LNSRCH', 'funcalls': 21, 'nit': 0, 'warnflag': 2}\n",
      "  \" state: %s\" % convergence_dict)\n",
      "/Users/danielzeiberg/miniconda3/lib/python3.6/site-packages/sklearn/gaussian_process/gpr.py:457: UserWarning: fmin_l_bfgs_b terminated abnormally with the  state: {'grad': array([-128.90993324]), 'task': b'ABNORMAL_TERMINATION_IN_LNSRCH', 'funcalls': 21, 'nit': 0, 'warnflag': 2}\n",
      "  \" state: %s\" % convergence_dict)\n"
     ]
    },
    {
     "name": "stdout",
     "output_type": "stream",
     "text": [
      "Stopping search: maximum iterations reached --> 100\n"
     ]
    },
    {
     "name": "stderr",
     "output_type": "stream",
     "text": [
      "/Users/danielzeiberg/miniconda3/lib/python3.6/site-packages/sklearn/gaussian_process/gpr.py:457: UserWarning: fmin_l_bfgs_b terminated abnormally with the  state: {'grad': array([-175.16708721]), 'task': b'ABNORMAL_TERMINATION_IN_LNSRCH', 'funcalls': 21, 'nit': 0, 'warnflag': 2}\n",
      "  \" state: %s\" % convergence_dict)\n",
      "/Users/danielzeiberg/miniconda3/lib/python3.6/site-packages/sklearn/gaussian_process/gpr.py:457: UserWarning: fmin_l_bfgs_b terminated abnormally with the  state: {'grad': array([0.02363658]), 'task': b'ABNORMAL_TERMINATION_IN_LNSRCH', 'funcalls': 52, 'nit': 6, 'warnflag': 2}\n",
      "  \" state: %s\" % convergence_dict)\n"
     ]
    },
    {
     "name": "stdout",
     "output_type": "stream",
     "text": [
      "Stopping search: maximum iterations reached --> 100\n",
      "Stopping search: maximum iterations reached --> 100\n"
     ]
    },
    {
     "name": "stderr",
     "output_type": "stream",
     "text": [
      "/Users/danielzeiberg/miniconda3/lib/python3.6/site-packages/sklearn/gaussian_process/gpr.py:457: UserWarning: fmin_l_bfgs_b terminated abnormally with the  state: {'grad': array([-120.19786633]), 'task': b'ABNORMAL_TERMINATION_IN_LNSRCH', 'funcalls': 30, 'nit': 2, 'warnflag': 2}\n",
      "  \" state: %s\" % convergence_dict)\n"
     ]
    },
    {
     "name": "stdout",
     "output_type": "stream",
     "text": [
      "Stopping search: maximum iterations reached --> 100\n"
     ]
    },
    {
     "name": "stderr",
     "output_type": "stream",
     "text": [
      "/Users/danielzeiberg/miniconda3/lib/python3.6/site-packages/sklearn/gaussian_process/gpr.py:457: UserWarning: fmin_l_bfgs_b terminated abnormally with the  state: {'grad': array([0.00268281]), 'task': b'ABNORMAL_TERMINATION_IN_LNSRCH', 'funcalls': 49, 'nit': 4, 'warnflag': 2}\n",
      "  \" state: %s\" % convergence_dict)\n"
     ]
    },
    {
     "name": "stdout",
     "output_type": "stream",
     "text": [
      "Stopping search: maximum iterations reached --> 100\n",
      "Stopping search: maximum iterations reached --> 100\n"
     ]
    },
    {
     "name": "stderr",
     "output_type": "stream",
     "text": [
      "/Users/danielzeiberg/miniconda3/lib/python3.6/site-packages/sklearn/gaussian_process/gpr.py:457: UserWarning: fmin_l_bfgs_b terminated abnormally with the  state: {'grad': array([-151.47308453]), 'task': b'ABNORMAL_TERMINATION_IN_LNSRCH', 'funcalls': 45, 'nit': 1, 'warnflag': 2}\n",
      "  \" state: %s\" % convergence_dict)\n"
     ]
    },
    {
     "name": "stdout",
     "output_type": "stream",
     "text": [
      "Stopping search: Swarm best objective change less than 1e-08\n",
      "~~~~~~~~~Goldstein-Price Mean Offline Performance: 40.093560829398555\n",
      "~~~~~~~~~Hartmann 3 Mean Offline Performance: -2.4753135292330937\n",
      "~~~~~~~~~Hartmann 6 Mean Offline Performance: -1.4207999627070784\n",
      "~~~~~~~~~Syblinsky-Tang 2 Mean Offline Performance: -48.52925332432199\n",
      "~~~~~~~~~Syblinsky-Tang 7 Mean Offline Performance: -160.15158778206157\n",
      "~~~~~~~~~camel Mean Offline Performance: 0.40663260317586536\n"
     ]
    },
    {
     "data": {
      "image/png": "[encoded data removed]",
      "text/plain": [
       "<Figure size 432x288 with 1 Axes>"
      ]
     },
     "metadata": {
      "needs_background": "light"
     },
     "output_type": "display_data"
    }
   ],
   "source": [
    "repeats = 1\n",
    "#repeats = 10 # Paper used 10\n",
    "output = []\n",
    "for problem in problems:\n",
    "    offlinePerformances = []\n",
    "    for repeat in range(repeats):\n",
    "        offlinePerf = do(problem, repeat)\n",
    "        offlinePerformances.append(offlinePerf[-1])\n",
    "        plotOfflinePerformance(offlinePerf, problem, repeat)\n",
    "    meanOfflinePerformance = np.mean(offlinePerformances)\n",
    "    output.append(\"~~~~~~~~~{} Mean Offline Performance: {}\".format(problem.name, meanOfflinePerformance))\n",
    "for o in output:\n",
    "    print(o)"
   ]
  },
  {
   "cell_type": "code",
   "execution_count": null,
   "metadata": {},
   "outputs": [],
   "source": []
  }
 ],
 "metadata": {
  "kernelspec": {
   "display_name": "Python 3",
   "language": "python",
   "name": "python3"
  },
  "language_info": {
   "codemirror_mode": {
    "name": "ipython",
    "version": 3
   },
   "file_extension": ".py",
   "mimetype": "text/x-python",
   "name": "python",
   "nbconvert_exporter": "python",
   "pygments_lexer": "ipython3",
   "version": "3.6.6"
  }
 },
 "nbformat": 4,
 "nbformat_minor": 2
}
