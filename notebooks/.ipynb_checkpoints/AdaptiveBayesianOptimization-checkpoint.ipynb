{
 "cells": [
  {
   "cell_type": "code",
   "execution_count": 1,
   "metadata": {},
   "outputs": [],
   "source": [
    "%matplotlib notebook\n",
    "from bayes_opt import BayesianOptimization\n",
    "import numpy as np\n",
    "from mpl_toolkits.mplot3d import axes3d\n",
    "import matplotlib.pyplot as plt\n",
    "from matplotlib import gridspec\n",
    "from matplotlib import cm\n",
    "from scipy.optimize import minimize_scalar, LinearConstraint, minimize\n",
    "from scipy.stats import norm\n",
    "from sklearn.gaussian_process import GaussianProcessRegressor"
   ]
  },
  {
   "cell_type": "code",
   "execution_count": 2,
   "metadata": {},
   "outputs": [],
   "source": [
    "def target(x1,x2):\n",
    "    return  -1 * ((4 - (2.1 * (x1**2)) + (x1**4)/3) * (x1**2) + x1*x2 + (-4 + 4*(x2**2)) * x2**2)\n",
    "def target1D(x):\n",
    "    return  -1 * ((4 - (2.1 * (x[0]**2)) + (x[0]**4)/3) * (x[0]**2) + x[0]*x[1] + (-4 + 4*(x[1]**2)) * x[1]**2)"
   ]
  },
  {
   "cell_type": "code",
   "execution_count": 3,
   "metadata": {},
   "outputs": [],
   "source": [
    "X1Vals = np.linspace(-3,3,100)\n",
    "X2Vals = np.linspace(-2,2,100)\n",
    "X1, X2 = np.meshgrid(X1Vals, X2Vals)\n",
    "Y = target(X1,X2)"
   ]
  },
  {
   "cell_type": "code",
   "execution_count": 4,
   "metadata": {},
   "outputs": [],
   "source": [
    "def learnLengthscale():\n",
    "    return 1"
   ]
  },
  {
   "cell_type": "code",
   "execution_count": 32,
   "metadata": {},
   "outputs": [],
   "source": [
    "def expectedImprovement(x, gp, dataset):\n",
    "    # because we are maximizing -1 * 6C we want to solve max_for x in x(0, f(x) - f(x^))\n",
    "    xi = 0.01\n",
    "    x = x.reshape(1,-1)\n",
    "    y_mean, y_std = gp.predict(x, return_std=True)\n",
    "    currentBest = np.max(dataset['z'])\n",
    "    if y_std > 0:\n",
    "        Z = (y_mean - currentBest - xi) / y_std\n",
    "        ei = (y_mean - currentBest - xi) * norm.cdf(Z) + y_std * norm.pdf(Z)\n",
    "    else:\n",
    "        ei = 0\n",
    "    return  -1 * ei\n",
    "\n",
    "def ABO(x0, y0, z0, budget=50, lowerTimeDelta=0.01, upperBoundThreshold=0.2, lengthScale=None, timeGranularity=0.1):\n",
    "    # max at 1.0316\n",
    "    dataset = {'x1': x0, 'x2':y0, 'z': z0}\n",
    "    # defaults: GaussianProcessRegressor(kernel=None, alpha=1e-10, optimizer=’fmin_l_bfgs_b’, n_restarts_optimizer=0, normalize_y=False, copy_X_train=True, random_state=None)\n",
    "    gp = GaussianProcessRegressor()\n",
    "    for iteration in range(budget):\n",
    "        # Train GP model\n",
    "        gp.fit(np.stack([dataset['x1'], dataset['x2']], axis=1), dataset['z'])\n",
    "        # Set current time from last collected sample\n",
    "        tC = dataset[\"x1\"][-1]\n",
    "        #Set time lengthscale (currently implementing ABOF)\n",
    "        if not lengthScale:\n",
    "            # if lengthscale set as None, learn lengthscale\n",
    "            lengthScale = learnLengthscale()\n",
    "        # Set bounds \n",
    "        lb = tC + lowerTimeDelta\n",
    "        ub = tC + upperBoundThreshold * lengthScale\n",
    "        #bounds = ((tC + lowerTimeDelta, tC + upperBoundThreshold * lengthScale), (-2, 2))\n",
    "        bounds = ((-3,3), (-2,2))\n",
    "        #print(\"most recent time: {}\".format(tC))\n",
    "        #print(\"minimizing neg. exp. improv in range [{}, {}]\".format(lb, ub))\n",
    "        newX = 0\n",
    "        newY = 0\n",
    "        max_acq = 0\n",
    "        for samplingIteration in range(20):\n",
    "            x = np.random.uniform(low=-3,high=3)\n",
    "            y = np.random.uniform(low=-2, high=2)\n",
    "            result = minimize(expectedImprovement,np.array([x,y]), args=(gp, dataset), bounds = bounds)\n",
    "            if not result.success:\n",
    "                print(\"ERROR: \\n{}\\n\".format(result.message))\n",
    "                continue\n",
    "            # Store it if better than previous minimum(maximum).\n",
    "            if max_acq is None or -result.fun >= max_acq:\n",
    "                newX, newY = result.x\n",
    "                max_acq = -result.fun\n",
    "        newZ = target(newX, newY)\n",
    "        dataset['x1'] = np.append(dataset['x1'], [newX])\n",
    "        dataset['x2'] = np.append(dataset['x2'], [newY])\n",
    "        dataset['z'] = np.append(dataset['z'], [newZ])\n",
    "        print(\"Most recently sampled point: f({}, {}) = {}\".format(dataset['x1'][-1], dataset['x2'][-1], dataset['z'][-1]))\n",
    "        maxIDX = np.argmax(dataset['z'])\n",
    "        print(\"f({},{}) = {}\\n\".format(dataset['x1'][maxIDX], dataset['x2'][maxIDX], dataset['z'][maxIDX]))\n",
    "    return np.max(dataset['z'])\n",
    "\n",
    "        "
   ]
  },
  {
   "cell_type": "code",
   "execution_count": 36,
   "metadata": {},
   "outputs": [
    {
     "name": "stdout",
     "output_type": "stream",
     "text": [
      "seed max val: 0.36554240786093817\n",
      "Most recently sampled point: f(-0.4482394393636133, -0.6088583162987832) = -0.061384098328582826\n",
      "f(0.30530072439458333,-0.4244553493184884) = 0.36554240786093817\n",
      "\n",
      "Most recently sampled point: f(-0.0435582349451472, -0.7194349858601147) = 0.95984379197275\n",
      "f(-0.0435582349451472,-0.7194349858601147) = 0.95984379197275\n",
      "\n",
      "Most recently sampled point: f(-2.9597372121218544, 0.3001471028297735) = -96.75053556416586\n",
      "f(-0.0435582349451472,-0.7194349858601147) = 0.95984379197275\n",
      "\n",
      "Most recently sampled point: f(-1.386940141603165, 0.6168852953924545) = -0.49798585359865344\n",
      "f(-0.0435582349451472,-0.7194349858601147) = 0.95984379197275\n",
      "\n",
      "Most recently sampled point: f(-0.8517185724468677, -0.03518153056770679) = -1.9488617892796762\n",
      "f(-0.0435582349451472,-0.7194349858601147) = 0.95984379197275\n",
      "\n",
      "Most recently sampled point: f(-1.6374117983886975, -0.2758159365661797) = -2.22363163890359\n",
      "f(-0.0435582349451472,-0.7194349858601147) = 0.95984379197275\n",
      "\n",
      "Most recently sampled point: f(-0.7114514464736716, 1.0412462821464494) = -1.1541902690325183\n",
      "f(-0.0435582349451472,-0.7194349858601147) = 0.95984379197275\n",
      "\n",
      "Most recently sampled point: f(0.1498864587155868, 1.4762219617773655) = -10.589344126809722\n",
      "f(-0.0435582349451472,-0.7194349858601147) = 0.95984379197275\n",
      "\n",
      "Most recently sampled point: f(-1.554551164927933, 1.5796157975940455) = -14.574239315003052\n",
      "f(-0.0435582349451472,-0.7194349858601147) = 0.95984379197275\n",
      "\n",
      "Most recently sampled point: f(0.4683144433155141, -1.342728282842102) = -5.941354076136287\n",
      "f(-0.0435582349451472,-0.7194349858601147) = 0.95984379197275\n",
      "\n",
      "Most recently sampled point: f(-1.9112404692007552, -0.07862850985960268) = -2.963164248585417\n",
      "f(-0.0435582349451472,-0.7194349858601147) = 0.95984379197275\n",
      "\n",
      "Most recently sampled point: f(-0.4156315925623719, -1.7911894791628975) = -29.71537288297679\n",
      "f(-0.0435582349451472,-0.7194349858601147) = 0.95984379197275\n",
      "\n",
      "Most recently sampled point: f(1.2991278177361325, 0.2462739851959168) = -2.4637245855515664\n",
      "f(-0.0435582349451472,-0.7194349858601147) = 0.95984379197275\n",
      "\n",
      "Most recently sampled point: f(-0.6503117923617197, 0.5943630321063562) = -0.04085139775514568\n",
      "f(-0.0435582349451472,-0.7194349858601147) = 0.95984379197275\n",
      "\n",
      "Most recently sampled point: f(-1.0853084164160764, 0.7669170743517992) = -0.5414628050267226\n",
      "f(-0.0435582349451472,-0.7194349858601147) = 0.95984379197275\n",
      "\n",
      "Most recently sampled point: f(1.7558413172425347, 0.5561898779803895) = -2.261554023112323\n",
      "f(-0.0435582349451472,-0.7194349858601147) = 0.95984379197275\n",
      "\n",
      "Most recently sampled point: f(0.5171080384561435, -0.38916429246260664) = -0.21053125876978007\n",
      "f(-0.0435582349451472,-0.7194349858601147) = 0.95984379197275\n",
      "\n",
      "Most recently sampled point: f(-0.2933316666181618, 1.6367884263271772) = -17.8422120268785\n",
      "f(-0.0435582349451472,-0.7194349858601147) = 0.95984379197275\n",
      "\n",
      "Most recently sampled point: f(-1.219089776783784, -0.5957408191134492) = -2.211044841951363\n",
      "f(-0.0435582349451472,-0.7194349858601147) = 0.95984379197275\n",
      "\n",
      "Most recently sampled point: f(0.11003631361690995, -0.7518126028722502) = 1.0175862654152645\n",
      "f(0.11003631361690995,-0.7518126028722502) = 1.0175862654152645\n",
      "\n"
     ]
    },
    {
     "data": {
      "text/plain": [
       "1.0175862654152645"
      ]
     },
     "execution_count": 36,
     "metadata": {},
     "output_type": "execute_result"
    }
   ],
   "source": [
    "x0 = np.random.uniform(low=-3,high=3,size=5)\n",
    "x1 = np.random.uniform(low=-2,high=2,size=5)\n",
    "initialX0, initialX1 = np.meshgrid(x0,x1)\n",
    "z = target(initialX0, initialX1)\n",
    "print(\"seed max val: {}\".format(np.max(z)))\n",
    "ABO(initialX0.flatten(), initialX1.flatten(), z.flatten(), budget=20)"
   ]
  },
  {
   "cell_type": "code",
   "execution_count": null,
   "metadata": {},
   "outputs": [],
   "source": []
  }
 ],
 "metadata": {
  "kernelspec": {
   "display_name": "Python 3",
   "language": "python",
   "name": "python3"
  },
  "language_info": {
   "codemirror_mode": {
    "name": "ipython",
    "version": 3
   },
   "file_extension": ".py",
   "mimetype": "text/x-python",
   "name": "python",
   "nbconvert_exporter": "python",
   "pygments_lexer": "ipython3",
   "version": "3.6.6"
  }
 },
 "nbformat": 4,
 "nbformat_minor": 2
}
